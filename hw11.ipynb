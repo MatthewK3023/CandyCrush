{
 "cells": [
  {
   "cell_type": "code",
   "execution_count": 142,
   "metadata": {},
   "outputs": [],
   "source": [
    "import numpy as np\n",
    "import pandas as pd\n",
    "import matplotlib.pyplot as plt"
   ]
  },
  {
   "cell_type": "code",
   "execution_count": 143,
   "metadata": {},
   "outputs": [],
   "source": [
    "data=pd.read_csv(\"candy_input2.txt\", header=None)\n",
    "#data=pd.read_csv(\"candy_input2.txt\", header=None)"
   ]
  },
  {
   "cell_type": "code",
   "execution_count": 144,
   "metadata": {},
   "outputs": [
    {
     "data": {
      "text/plain": [
       "(8, 6)"
      ]
     },
     "execution_count": 144,
     "metadata": {},
     "output_type": "execute_result"
    }
   ],
   "source": [
    "data.shape"
   ]
  },
  {
   "cell_type": "code",
   "execution_count": 145,
   "metadata": {},
   "outputs": [
    {
     "name": "stdout",
     "output_type": "stream",
     "text": [
      "[65, 34, 35, 3, 4, 70, 5, 72, 73, 74, 43, 44, 45, 50, 54, 55, 60]\n",
      "     0  1    2    3    4    5\n",
      "0  0.0  9  0.0  0.0  0.0  0.0\n",
      "1  0.0  7  7.0  0.0  0.0  0.0\n",
      "2  0.0  6  6.0  0.0  0.0  0.0\n",
      "3  9.0  5  5.0  8.0  0.0  0.0\n",
      "4  7.0  1  1.0  6.0  0.0  0.0\n",
      "5  5.0  4  4.0  4.0  9.0  9.0\n",
      "6  1.0  1  1.0  3.0  8.0  8.0\n",
      "7  2.0  2  2.0  1.0  3.0  3.0\n",
      "[70, 71, 72, 51, 52, 53, 60, 61, 62]\n",
      "     0    1    2    3    4    5\n",
      "0  0.0  0.0  0.0  0.0  0.0  0.0\n",
      "1  0.0  0.0  0.0  0.0  0.0  0.0\n",
      "2  0.0  0.0  0.0  0.0  0.0  0.0\n",
      "3  0.0  9.0  0.0  0.0  0.0  0.0\n",
      "4  0.0  7.0  7.0  8.0  0.0  0.0\n",
      "5  9.0  6.0  6.0  6.0  9.0  9.0\n",
      "6  7.0  5.0  5.0  3.0  8.0  8.0\n",
      "7  5.0  1.0  1.0  1.0  3.0  3.0\n",
      "[71, 72, 73, 51, 52, 53]\n",
      "     0    1    2    3    4    5\n",
      "0  0.0  0.0  0.0  0.0  0.0  0.0\n",
      "1  0.0  0.0  0.0  0.0  0.0  0.0\n",
      "2  0.0  0.0  0.0  0.0  0.0  0.0\n",
      "3  0.0  0.0  0.0  0.0  0.0  0.0\n",
      "4  0.0  0.0  0.0  0.0  0.0  0.0\n",
      "5  9.0  9.0  0.0  0.0  9.0  9.0\n",
      "6  7.0  7.0  7.0  8.0  8.0  8.0\n",
      "7  5.0  5.0  5.0  3.0  3.0  3.0\n",
      "[64, 65, 70, 71, 72, 73, 74, 75, 60, 61, 62, 63]\n",
      "     0    1    2    3    4    5\n",
      "0  0.0  0.0  0.0  0.0  0.0  0.0\n",
      "1  0.0  0.0  0.0  0.0  0.0  0.0\n",
      "2  0.0  0.0  0.0  0.0  0.0  0.0\n",
      "3  0.0  0.0  0.0  0.0  0.0  0.0\n",
      "4  0.0  0.0  0.0  0.0  0.0  0.0\n",
      "5  0.0  0.0  0.0  0.0  0.0  0.0\n",
      "6  0.0  0.0  0.0  0.0  0.0  0.0\n",
      "7  9.0  9.0  0.0  0.0  9.0  9.0\n",
      "[]\n"
     ]
    }
   ],
   "source": [
    "while True:\n",
    "    box=[]\n",
    "    for x in range(data.shape[1]):       #列 掃描\n",
    "        for y in range(data.shape[0]-2):\n",
    "            if (data.iloc[y,x]==data.iloc[y+1,x]) and (data.iloc[y,x]==data.iloc[y+2,x]) and (data.iloc[y,x]!=0):\n",
    "                box.append(y*10+x); box.append((y+1)*10+x); box.append((y+2)*10+x)\n",
    "    for y in range(data.shape[0]):       #行 掃描\n",
    "        for x in range(data.shape[1]-2):\n",
    "            if (data.iloc[y,x]==data.iloc[y,x+1]) and (data.iloc[y,x]==data.iloc[y,x+2]) and (data.iloc[y,x]!=0):\n",
    "                box.append(y*10+x); box.append(y*10+x+1); box.append(y*10+x+2)\n",
    "    box=list(set(box))\n",
    "    data_map=pd.DataFrame(np.ones(shape=(data.shape[0],data.shape[1])))\n",
    "    for i in range(len(box)):       #0為需要消除的值； 1則為需要保留的值\n",
    "        data_map.iloc[box[i]//10, box[i]%10]=0\n",
    "    if (data_map == 0).sum().sum() == 0: break\n",
    "    for x in range(data.shape[1]):\n",
    "        col0=data_map[x][data_map[x]==0]\n",
    "        col1=data[x][data_map[x]==1]\n",
    "        data[x]=pd.concat([col0,col1],axis=0,ignore_index=True)\n",
    "    print(data)"
   ]
  },
  {
   "cell_type": "code",
   "execution_count": 132,
   "metadata": {},
   "outputs": [],
   "source": [
    "fmt=\"\"; length=str(len(str(int(data.values.max()))))\n",
    "for i in range(data.shape[1]): \n",
    "    fmt=fmt+\"%\"+length+\"d\"\n",
    "    if i != (data.shape[1]-1): fmt=fmt+\", \"\n",
    "np.savetxt('candy_output.txt', data.values, fmt=fmt)"
   ]
  }
 ],
 "metadata": {
  "kernelspec": {
   "display_name": "Python 3",
   "language": "python",
   "name": "python3"
  },
  "language_info": {
   "codemirror_mode": {
    "name": "ipython",
    "version": 3
   },
   "file_extension": ".py",
   "mimetype": "text/x-python",
   "name": "python",
   "nbconvert_exporter": "python",
   "pygments_lexer": "ipython3",
   "version": "3.6.4"
  }
 },
 "nbformat": 4,
 "nbformat_minor": 2
}
